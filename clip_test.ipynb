{
 "cells": [
  {
   "cell_type": "code",
   "execution_count": 1,
   "metadata": {},
   "outputs": [
    {
     "name": "stderr",
     "output_type": "stream",
     "text": [
      "/opt/conda/envs/groupvit/lib/python3.7/site-packages/tqdm/auto.py:21: TqdmWarning: IProgress not found. Please update jupyter and ipywidgets. See https://ipywidgets.readthedocs.io/en/stable/user_install.html\n",
      "  from .autonotebook import tqdm as notebook_tqdm\n"
     ]
    }
   ],
   "source": [
    "import torch, clip\n",
    "import os.path as osp\n",
    "import numpy as np\n",
    "import faiss\n",
    "import pandas as pd\n",
    "import braceexpand\n",
    "import webdataset as wds\n",
    "from utils.myutils import extract_words\n",
    "from gensim.models import Word2Vec, KeyedVectors\n",
    "from sklearn.cluster import KMeans\n",
    "clip_ckpts = {\n",
    "        'clip-vit-b-32': 'ViT-B/32',\n",
    "        'clip-vit-b-16': 'ViT-B/16',\n",
    "        'clip-vit-l-14': 'ViT-L/14',\n",
    "    }\n",
    "\n",
    "model_name = 'clip-vit-b-16'\n",
    "device = 'cuda:5'\n",
    "model, _ = clip.load(clip_ckpts[model_name], device=device)\n",
    "\n"
   ]
  },
  {
   "cell_type": "code",
   "execution_count": 2,
   "metadata": {},
   "outputs": [],
   "source": [
    "path = \"/workspace/Dataset/local_data/clip-vit-b-16_8_c3_shards/\"\n",
    "prefix = \"c3-000000.tar\"\n",
    "tar_file = osp.join(path, prefix)\n",
    "\n",
    "dataset = (\n",
    "    wds.WebDataset(tar_file, repeat=True)\n",
    "    .decode('pil')\n",
    "    .rename(image='jpg;png;jpeg', text='text;txt', keep=False,)\n",
    ")\n"
   ]
  },
  {
   "cell_type": "code",
   "execution_count": 3,
   "metadata": {},
   "outputs": [],
   "source": [
    "idx = 1024\n",
    "keyword_list = []\n",
    "for i, data in enumerate(dataset):\n",
    "    img = data['image']\n",
    "    text, nouns, keywords = extract_words(data['text'])\n",
    "    keyword_list += keywords\n",
    "    if i == idx:\n",
    "        break\n",
    "    \n",
    "keyword_list = list(set(keyword_list))\n",
    "\n"
   ]
  },
  {
   "cell_type": "code",
   "execution_count": 4,
   "metadata": {},
   "outputs": [
    {
     "name": "stdout",
     "output_type": "stream",
     "text": [
      "<class 'torch.Tensor'>\n"
     ]
    }
   ],
   "source": [
    "text_tokens = clip.tokenize(keyword_list)\n",
    "print()\n",
    "text_embs = model.encode_text(text_tokens.to(device))"
   ]
  },
  {
   "cell_type": "code",
   "execution_count": 10,
   "metadata": {},
   "outputs": [
    {
     "data": {
      "text/plain": [
       "torch.float16"
      ]
     },
     "execution_count": 10,
     "metadata": {},
     "output_type": "execute_result"
    },
    {
     "ename": "",
     "evalue": "",
     "output_type": "error",
     "traceback": [
      "\u001b[1;31mThe Kernel crashed while executing code in the the current cell or a previous cell. Please review the code in the cell(s) to identify a possible cause of the failure. Click <a href='https://aka.ms/vscodeJupyterKernelCrash'>here</a> for more info. View Jupyter <a href='command:jupyter.viewOutput'>log</a> for further details."
     ]
    }
   ],
   "source": [
    "text_embs.dtype"
   ]
  },
  {
   "cell_type": "code",
   "execution_count": 5,
   "metadata": {},
   "outputs": [],
   "source": [
    "K = 16\n",
    "kmeans = KMeans(n_clusters=K, max_iter=100).fit(text_embs.cpu().detach().numpy())"
   ]
  },
  {
   "cell_type": "code",
   "execution_count": 6,
   "metadata": {},
   "outputs": [],
   "source": [
    "kmeans_archive = {}\n",
    "\n",
    "labels = kmeans.labels_\n",
    "for i in range(K):\n",
    "    kmeans_archive[str(i)] = []\n",
    "    \n",
    "for i, label in enumerate(labels):\n",
    "    kmeans_archive[str(label)].append(keyword_list[i])"
   ]
  },
  {
   "cell_type": "code",
   "execution_count": 7,
   "metadata": {},
   "outputs": [],
   "source": [
    "cluster_centers = kmeans.cluster_centers_\n",
    "\n",
    "# 각 데이터 포인트에서 가장 가까운 클러스터 중심까지의 거리 계산\n",
    "distances = np.sqrt(((text_embs.cpu().detach().numpy() - cluster_centers[:, np.newaxis])**2).sum(axis=2))\n",
    "\n",
    "# 각 클러스터에 대해 가장 중심에 가까운 데이터의 인덱스 찾기\n",
    "closest_data_points = np.argmin(distances, axis=1)\n"
   ]
  },
  {
   "cell_type": "code",
   "execution_count": 8,
   "metadata": {},
   "outputs": [
    {
     "data": {
      "text/plain": [
       "['box',\n",
       " 'skeleton',\n",
       " 'eagle',\n",
       " 'mountain',\n",
       " 'ring',\n",
       " 'tree',\n",
       " 'road',\n",
       " 'flowers',\n",
       " 'table',\n",
       " 'kids',\n",
       " 'van',\n",
       " 'feet',\n",
       " 'plants',\n",
       " 'football player',\n",
       " 'food',\n",
       " 'boxes']"
      ]
     },
     "execution_count": 8,
     "metadata": {},
     "output_type": "execute_result"
    }
   ],
   "source": [
    "keyword = [keyword_list[i] for i in closest_data_points]\n",
    "\n",
    "keyword"
   ]
  },
  {
   "cell_type": "code",
   "execution_count": null,
   "metadata": {},
   "outputs": [],
   "source": []
  }
 ],
 "metadata": {
  "kernelspec": {
   "display_name": "groupvit",
   "language": "python",
   "name": "python3"
  },
  "language_info": {
   "codemirror_mode": {
    "name": "ipython",
    "version": 3
   },
   "file_extension": ".py",
   "mimetype": "text/x-python",
   "name": "python",
   "nbconvert_exporter": "python",
   "pygments_lexer": "ipython3",
   "version": "3.7.16"
  }
 },
 "nbformat": 4,
 "nbformat_minor": 2
}
