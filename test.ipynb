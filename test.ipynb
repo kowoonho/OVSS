{
 "cells": [
  {
   "cell_type": "code",
   "execution_count": 2,
   "metadata": {},
   "outputs": [
    {
     "name": "stderr",
     "output_type": "stream",
     "text": [
      "/opt/conda/envs/groupvit/lib/python3.7/site-packages/tqdm/auto.py:21: TqdmWarning: IProgress not found. Please update jupyter and ipywidgets. See https://ipywidgets.readthedocs.io/en/stable/user_install.html\n",
      "  from .autonotebook import tqdm as notebook_tqdm\n"
     ]
    }
   ],
   "source": [
    "from datasets.builder import Tokenize, WordAugTokenizeWrapper, build_img_transform, build_text_transform\n",
    "from datasets.tokenizer import SimpleTokenizer\n",
    "from braceexpand import braceexpand\n",
    "import os.path as osp\n",
    "import webdataset as wds"
   ]
  },
  {
   "cell_type": "code",
   "execution_count": 3,
   "metadata": {},
   "outputs": [],
   "source": [
    "tar_file_list = []\n",
    "path = \"/workspace/Dataset/local_data/clip-vit-b-16_8_c3_shards/\"\n",
    "prefix = \"c3-{000000..000001}.tar\"\n",
    "for tar_file in braceexpand(osp.join(path, prefix)):\n",
    "    tar_file_list.append(tar_file)"
   ]
  },
  {
   "cell_type": "code",
   "execution_count": null,
   "metadata": {},
   "outputs": [],
   "source": []
  },
  {
   "cell_type": "code",
   "execution_count": 4,
   "metadata": {},
   "outputs": [],
   "source": [
    "dataset = (\n",
    "    wds.WebDataset(tar_file_list, repeat=True)\n",
    "    .decode('pil')\n",
    "    .rename(image='jpg;png;jpeg', text='text;txt', keep=False,)\n",
    "    )"
   ]
  },
  {
   "cell_type": "code",
   "execution_count": 5,
   "metadata": {},
   "outputs": [],
   "source": [
    "for data in dataset:\n",
    "    break"
   ]
  },
  {
   "cell_type": "code",
   "execution_count": 6,
   "metadata": {},
   "outputs": [
    {
     "data": {
      "text/plain": [
       "'young confused girl standing in front of a wardrobe\\n{\"wardrobe\": 1.9683421875, \"bed\": 1.870421875, \"clothes\": 1.86121875, \"couch\": 1.8441578125, \"piles\": 1.8382367187500002, \"pile\": 1.8158476562499999, \"girl\": 1.8130375, \"woman\": 1.76281640625, \"suitcase\": 1.76066953125, \"floor\": 1.7361984375000001, \"bag\": 1.64594921875}\\n{\"2\": {\"wardrobe\": 1.9683421875, \"clothes\": 1.86121875}, \"4\": {\"bed\": 1.870421875, \"couch\": 1.8441578125}, \"0\": {\"piles\": 1.8382367187500002, \"pile\": 1.8158476562499999}, \"3\": {\"girl\": 1.8130375, \"woman\": 1.76281640625}, \"5\": {\"suitcase\": 1.76066953125, \"bag\": 1.64594921875}, \"1\": {\"floor\": 1.7361984375000001}}'"
      ]
     },
     "execution_count": 6,
     "metadata": {},
     "output_type": "execute_result"
    }
   ],
   "source": [
    "data['text']"
   ]
  },
  {
   "cell_type": "code",
   "execution_count": 7,
   "metadata": {},
   "outputs": [],
   "source": [
    "lines = data['text'].split('\\n')"
   ]
  },
  {
   "cell_type": "code",
   "execution_count": 36,
   "metadata": {},
   "outputs": [],
   "source": [
    "import json\n",
    "keyword = json.loads(lines[-1])\n",
    "max_word = 3"
   ]
  },
  {
   "cell_type": "code",
   "execution_count": 42,
   "metadata": {},
   "outputs": [],
   "source": [
    "keyword_nouns = [list(item[1].keys())[0] for item in list(keyword.items())]"
   ]
  },
  {
   "cell_type": "code",
   "execution_count": 43,
   "metadata": {},
   "outputs": [
    {
     "data": {
      "text/plain": [
       "['wardrobe', 'bed', 'piles', 'girl', 'suitcase', 'floor']"
      ]
     },
     "execution_count": 43,
     "metadata": {},
     "output_type": "execute_result"
    },
    {
     "ename": "",
     "evalue": "",
     "output_type": "error",
     "traceback": [
      "\u001b[1;31mThe Kernel crashed while executing code in the the current cell or a previous cell. Please review the code in the cell(s) to identify a possible cause of the failure. Click <a href='https://aka.ms/vscodeJupyterKernelCrash'>here</a> for more info. View Jupyter <a href='command:jupyter.viewOutput'>log</a> for further details."
     ]
    }
   ],
   "source": [
    "keyword_nouns"
   ]
  },
  {
   "cell_type": "code",
   "execution_count": 41,
   "metadata": {},
   "outputs": [
    {
     "data": {
      "text/plain": [
       "{'2': {'wardrobe': 1.9683421875, 'clothes': 1.86121875},\n",
       " '4': {'bed': 1.870421875, 'couch': 1.8441578125},\n",
       " '0': {'piles': 1.8382367187500002, 'pile': 1.8158476562499999},\n",
       " '3': {'girl': 1.8130375, 'woman': 1.76281640625},\n",
       " '5': {'suitcase': 1.76066953125, 'bag': 1.64594921875},\n",
       " '1': {'floor': 1.7361984375000001}}"
      ]
     },
     "execution_count": 41,
     "metadata": {},
     "output_type": "execute_result"
    }
   ],
   "source": [
    "keyword"
   ]
  },
  {
   "cell_type": "code",
   "execution_count": null,
   "metadata": {},
   "outputs": [],
   "source": []
  }
 ],
 "metadata": {
  "kernelspec": {
   "display_name": "groupvit",
   "language": "python",
   "name": "python3"
  },
  "language_info": {
   "codemirror_mode": {
    "name": "ipython",
    "version": 3
   },
   "file_extension": ".py",
   "mimetype": "text/x-python",
   "name": "python",
   "nbconvert_exporter": "python",
   "pygments_lexer": "ipython3",
   "version": "3.7.16"
  }
 },
 "nbformat": 4,
 "nbformat_minor": 2
}
