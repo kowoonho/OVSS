{
 "cells": [
  {
   "cell_type": "code",
   "execution_count": 1,
   "metadata": {},
   "outputs": [],
   "source": [
    "from datasets.builder import Tokenize, WordAugTokenizeWrapper, build_img_transform, build_text_transform\n",
    "from datasets.tokenizer import SimpleTokenizer\n",
    "from braceexpand import braceexpand\n",
    "import os.path as osp\n",
    "import webdataset as wds"
   ]
  },
  {
   "cell_type": "code",
   "execution_count": 2,
   "metadata": {},
   "outputs": [],
   "source": [
    "tar_file_list = []\n",
    "path = \"/workspace/Dataset/local_data/clip-vit-b-16_8_c3_shards/\"\n",
    "prefix = \"c3-{000000..000001}.tar\"\n",
    "for tar_file in braceexpand(osp.join(path, prefix)):\n",
    "    tar_file_list.append(tar_file)"
   ]
  },
  {
   "cell_type": "code",
   "execution_count": null,
   "metadata": {},
   "outputs": [],
   "source": []
  },
  {
   "cell_type": "code",
   "execution_count": 3,
   "metadata": {},
   "outputs": [],
   "source": [
    "dataset = (\n",
    "    wds.WebDataset(tar_file_list, repeat=True)\n",
    "    .decode('pil')\n",
    "    .rename(image='jpg;png;jpeg', text='text;txt', keep=False,)\n",
    "    )"
   ]
  },
  {
   "cell_type": "code",
   "execution_count": 4,
   "metadata": {},
   "outputs": [],
   "source": [
    "for data in dataset:\n",
    "    break"
   ]
  },
  {
   "cell_type": "code",
   "execution_count": 5,
   "metadata": {},
   "outputs": [
    {
     "data": {
      "text/plain": [
       "'young confused girl standing in front of a wardrobe\\n{\"wardrobe\": 1.96808681325433, \"bed\": 1.8687825941989662, \"clothes\": 1.8601968139667564, \"couch\": 1.842840589886213, \"piles\": 1.8384684012341304, \"pile\": 1.8155728286538428, \"girl\": 1.8125446676021604, \"woman\": 1.7625796467482486, \"suitcase\": 1.7598651109763601, \"floor\": 1.7356134175043025, \"bag\": 1.6456774750514662}\\n{\"2\": {\"wardrobe\": 1.96808681325433, \"clothes\": 1.8601968139667564}, \"4\": {\"bed\": 1.8687825941989662, \"couch\": 1.842840589886213}, \"0\": {\"piles\": 1.8384684012341304, \"pile\": 1.8155728286538428}, \"3\": {\"girl\": 1.8125446676021604, \"woman\": 1.7625796467482486}, \"5\": {\"suitcase\": 1.7598651109763601, \"bag\": 1.6456774750514662}, \"1\": {\"floor\": 1.7356134175043025}}'"
      ]
     },
     "execution_count": 5,
     "metadata": {},
     "output_type": "execute_result"
    }
   ],
   "source": [
    "data['text']"
   ]
  },
  {
   "cell_type": "code",
   "execution_count": 6,
   "metadata": {},
   "outputs": [],
   "source": [
    "lines = data['text'].split('\\n')"
   ]
  },
  {
   "cell_type": "code",
   "execution_count": 7,
   "metadata": {},
   "outputs": [],
   "source": [
    "import json\n",
    "keyword = json.loads(lines[-1])\n",
    "max_word = 3"
   ]
  },
  {
   "cell_type": "code",
   "execution_count": 8,
   "metadata": {},
   "outputs": [],
   "source": [
    "keyword_nouns = [list(item[1].keys())[0] for item in list(keyword.items())]"
   ]
  },
  {
   "cell_type": "code",
   "execution_count": 9,
   "metadata": {},
   "outputs": [
    {
     "data": {
      "text/plain": [
       "['wardrobe', 'bed', 'piles', 'girl', 'suitcase', 'floor']"
      ]
     },
     "execution_count": 9,
     "metadata": {},
     "output_type": "execute_result"
    }
   ],
   "source": [
    "keyword_nouns"
   ]
  },
  {
   "cell_type": "code",
   "execution_count": 10,
   "metadata": {},
   "outputs": [
    {
     "data": {
      "text/plain": [
       "{'2': {'wardrobe': 1.96808681325433, 'clothes': 1.8601968139667564},\n",
       " '4': {'bed': 1.8687825941989662, 'couch': 1.842840589886213},\n",
       " '0': {'piles': 1.8384684012341304, 'pile': 1.8155728286538428},\n",
       " '3': {'girl': 1.8125446676021604, 'woman': 1.7625796467482486},\n",
       " '5': {'suitcase': 1.7598651109763601, 'bag': 1.6456774750514662},\n",
       " '1': {'floor': 1.7356134175043025}}"
      ]
     },
     "execution_count": 10,
     "metadata": {},
     "output_type": "execute_result"
    },
    {
     "ename": "",
     "evalue": "",
     "output_type": "error",
     "traceback": [
      "\u001b[1;31mThe Kernel crashed while executing code in the the current cell or a previous cell. Please review the code in the cell(s) to identify a possible cause of the failure. Click <a href='https://aka.ms/vscodeJupyterKernelCrash'>here</a> for more info. View Jupyter <a href='command:jupyter.viewOutput'>log</a> for further details."
     ]
    }
   ],
   "source": [
    "keyword"
   ]
  },
  {
   "cell_type": "code",
   "execution_count": null,
   "metadata": {},
   "outputs": [],
   "source": []
  }
 ],
 "metadata": {
  "kernelspec": {
   "display_name": "groupvit",
   "language": "python",
   "name": "python3"
  },
  "language_info": {
   "codemirror_mode": {
    "name": "ipython",
    "version": 3
   },
   "file_extension": ".py",
   "mimetype": "text/x-python",
   "name": "python",
   "nbconvert_exporter": "python",
   "pygments_lexer": "ipython3",
   "version": "3.7.16"
  }
 },
 "nbformat": 4,
 "nbformat_minor": 2
}
